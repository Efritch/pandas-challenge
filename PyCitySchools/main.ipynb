{
 "cells": [
  {
   "cell_type": "code",
   "execution_count": null,
   "metadata": {},
   "outputs": [],
   "source": [
    "import pandas as pd\n",
    "import numpy as np"
   ]
  },
  {
   "cell_type": "code",
   "execution_count": null,
   "metadata": {},
   "outputs": [],
   "source": [
    "# Read in the data files to use for this assignment\n",
    "csv_path = \"../Resources/schools_complete.csv\"\n",
    "complete_schools_data = pd.read_csv(csv_path)\n",
    "\n",
    "csv_path = \"../Resources/students_complete.csv\"\n",
    "complete_students_data = pd.read_csv(csv_path)"
   ]
  },
  {
   "cell_type": "code",
   "execution_count": null,
   "metadata": {},
   "outputs": [],
   "source": [
    "# Confirm the school data loaded\n",
    "complete_schools_data.head()"
   ]
  },
  {
   "cell_type": "code",
   "execution_count": null,
   "metadata": {},
   "outputs": [],
   "source": [
    "# Confirm the student data loaded\n",
    "complete_students_data.head()"
   ]
  },
  {
   "cell_type": "code",
   "execution_count": null,
   "metadata": {},
   "outputs": [],
   "source": [
    "# Create bins for passing scores\n",
    "bins = [0, 66, 100]\n",
    "\n",
    "# Create labels for the bins\n",
    "score_labels = [\"Not Passing\", \"Passing\"]"
   ]
  },
  {
   "cell_type": "code",
   "execution_count": null,
   "metadata": {},
   "outputs": [],
   "source": [
    "# Determine basic data for the District Summary\n",
    "school_count = complete_schools_data[\"school_name\"].count()\n",
    "student_count = complete_students_data[\"student_name\"].count()\n",
    "district_budget = complete_schools_data[\"budget\"].sum()\n",
    "avg_district_math_score = complete_students_data[\"math_score\"].mean()\n",
    "avg_district_reading_score = complete_students_data[\"reading_score\"].mean()"
   ]
  },
  {
   "cell_type": "code",
   "execution_count": null,
   "metadata": {},
   "outputs": [],
   "source": [
    "#print(school_count)\n",
    "#print(student_count)\n",
    "#print(district_budget)\n",
    "#print(avg_district_math_score)\n",
    "#print(avg_district_reading_score)"
   ]
  },
  {
   "cell_type": "code",
   "execution_count": null,
   "metadata": {},
   "outputs": [],
   "source": [
    "# Creating data sets for just math and reading scores\n",
    "district_math_scores = complete_students_data[[\"student_name\",\n",
    "                                             \"math_score\"]]\n",
    "\n",
    "district_reading_scores = complete_students_data[[\"student_name\",\n",
    "                                             \"reading_score\"]]"
   ]
  },
  {
   "cell_type": "code",
   "execution_count": null,
   "metadata": {},
   "outputs": [],
   "source": [
    "#print(district_math_scores.head())\n",
    "#print(district_reading_scores.head())"
   ]
  },
  {
   "cell_type": "code",
   "execution_count": null,
   "metadata": {},
   "outputs": [],
   "source": [
    "# Place the passing determination into a new column inside the DataFrame\n",
    "complete_students_data[\"Passing_Math\"] = pd.cut(district_math_scores[\"math_score\"], \n",
    "                                                bins, labels = score_labels)"
   ]
  },
  {
   "cell_type": "code",
   "execution_count": null,
   "metadata": {},
   "outputs": [],
   "source": [
    "# Place the passing determination into a new column inside the DataFrame\n",
    "complete_students_data[\"Passing_Reading\"] = pd.cut(district_reading_scores[\"reading_score\"], \n",
    "                                                bins, labels = score_labels)"
   ]
  },
  {
   "cell_type": "code",
   "execution_count": null,
   "metadata": {},
   "outputs": [],
   "source": [
    "# Confirm the new columns were added to the original DataFrame\n",
    "complete_students_data.head()"
   ]
  },
  {
   "cell_type": "code",
   "execution_count": null,
   "metadata": {},
   "outputs": [],
   "source": [
    "# Determine the students in the district passing math, reading, and both\n",
    "dist_students_passing_math = complete_students_data.loc[complete_students_data[\"Passing_Math\"] == \"Passing\"]\n",
    "\n",
    "dist_students_passing_reading = complete_students_data.loc[complete_students_data[\"Passing_Reading\"] == \"Passing\"]\n",
    "\n",
    "dist_students_pass_math_reading = dist_students_passing_math.loc[dist_students_passing_math[\"Passing_Reading\"] == \"Passing\"]\n",
    "\n",
    "math_pass_count = dist_students_passing_math[\"Passing_Math\"].count()\n",
    "reading_pass_count = dist_students_passing_reading[\"Passing_Reading\"].count()\n",
    "math_reading_pass_count = dist_students_pass_math_reading[\"Passing_Math\"].count()\n",
    "\n",
    "#print(math_pass_count)\n",
    "#print(reading_pass_count)\n",
    "#print(math_reading_pass_count)\n"
   ]
  },
  {
   "cell_type": "code",
   "execution_count": null,
   "metadata": {},
   "outputs": [],
   "source": [
    "# Calculate percentage of students in district passing math or reading\n",
    "dist_pct_pass_math = (math_pass_count / student_count)\n",
    "\n",
    "dist_pct_pass_reading = (reading_pass_count / student_count)\n",
    "\n",
    "dist_pct_pass_math_reading = (math_reading_pass_count / student_count)\n",
    "\n",
    "#print(dist_pct_pass_math)\n",
    "#print(dist_pct_pass_reading)\n",
    "#print(dist_pct_pass_math_reading)"
   ]
  },
  {
   "cell_type": "code",
   "execution_count": null,
   "metadata": {},
   "outputs": [],
   "source": [
    "district_summary = pd.DataFrame({\"Total Schools\": [school_count],\n",
    "                                \"Total Students\": [\"{:,}\".format(student_count)],\n",
    "                                \"Total Budget\": [\"${0:,.2f}\".format(district_budget)],\n",
    "                                \"Average Math Score\": [avg_district_math_score],\n",
    "                                \"Average Reading Score\": [avg_district_reading_score],\n",
    "                                \"% Passing Math\": [\"{:.2%}\".format(dist_pct_pass_math)],\n",
    "                                \"% Passing Reading\": [\"{:.2%}\".format(dist_pct_pass_reading)],\n",
    "                                \"% Overall Passing\": [\"{:.2%}\".format(dist_pct_pass_math_reading)]})\n",
    "\n",
    "district_summary"
   ]
  },
  {
   "cell_type": "code",
   "execution_count": null,
   "metadata": {},
   "outputs": [],
   "source": [
    "# Defining the high schools for the individual school analysis\n",
    "# HHS = Huang High School\n",
    "# FHS = Figueroa High School\n",
    "# SHS = Shelton High School\n",
    "# HZHS = Hernandez High School\n",
    "# GHS = Griffin High School\n",
    "# WHS = Wilson High School\n",
    "# CHS = Cabrera High School\n",
    "# BHS = Bailey High School\n",
    "# HNHS = Holden High School\n",
    "# PHS = Pena High School\n",
    "# WTHS = Wright High School\n",
    "# RHS = Rodriguez High School\n",
    "# JHS = Johnson High School\n",
    "# FDHS = Ford High School\n",
    "# THS = Thomas High School"
   ]
  },
  {
   "cell_type": "code",
   "execution_count": null,
   "metadata": {
    "scrolled": false
   },
   "outputs": [],
   "source": [
    "# Collecting student informaiton for Huang High School\n",
    "hhs_student_data = complete_students_data.loc[complete_students_data[\"school_name\"] == \"Huang High School\"]\n",
    "hhs_student_count = hhs_student_data[\"student_name\"].count()\n",
    "\n",
    "# Calculation average math and reading scores for Huang High School\n",
    "hhs_avg_math_score = hhs_student_data[\"math_score\"].mean()\n",
    "hhs_avg_reading_score = hhs_student_data[\"reading_score\"].mean()\n",
    "\n",
    "# Creating DataFrames that contain the students that are passing math and/or reading\n",
    "hhs_students_passing_math = hhs_student_data.loc[hhs_student_data[\"Passing_Math\"] == \"Passing\"]\n",
    "\n",
    "hhs_students_passing_reading = hhs_student_data.loc[hhs_student_data[\"Passing_Reading\"] == \"Passing\"]\n",
    "\n",
    "hhs_students_pass_math_reading = hhs_students_passing_math.loc[hhs_students_passing_math[\"Passing_Reading\"] == \"Passing\"]\n",
    "\n",
    "# Determinging the number of students at Huang High School that are passing math and/or reading\n",
    "hhs_math_pass_count =hhs_students_passing_math[\"Passing_Math\"].count()\n",
    "hhs_reading_pass_count = hhs_students_passing_reading[\"Passing_Reading\"].count()\n",
    "hhs_math_reading_pass_count = hhs_students_pass_math_reading[\"Passing_Math\"].count()\n",
    "\n",
    "# Calculate percentage of students at Huang High School passing math and/or reading\n",
    "hhs_pct_pass_math = (hhs_math_pass_count / hhs_student_count)\n",
    "\n",
    "hhs_pct_pass_reading = (hhs_reading_pass_count / hhs_student_count)\n",
    "\n",
    "hhs_pct_pass_math_reading = (hhs_math_reading_pass_count / hhs_student_count)\n",
    "\n",
    "#print(hhs_student_count)\n",
    "#print(hhs_avg_math_score)\n",
    "#print(hhs_avg_reading_score)\n",
    "#print(hhs_pct_pass_math)\n",
    "#print(hhs_pct_pass_reading)\n",
    "#print(hhs_pct_pass_math_reading)\n",
    "\n",
    "hhs_summary = pd.DataFrame({\"Total Students\": [\"{:,}\".format(hhs_student_count)],\n",
    "                            \"Average Math Score\": [hhs_avg_math_score],\n",
    "                            \"Average Reading Score\": [hhs_avg_reading_score],\n",
    "                            \"% Passing Math\": [\"{:.2%}\".format(hhs_pct_pass_math)],\n",
    "                            \"% Passing Reading\": [\"{:.2%}\".format(hhs_pct_pass_reading)],\n",
    "                            \"% Overall Passing\": [\"{:.2%}\".format(hhs_pct_pass_math_reading)]})\n",
    "\n",
    "hhs_summary"
   ]
  },
  {
   "cell_type": "code",
   "execution_count": null,
   "metadata": {},
   "outputs": [],
   "source": [
    "# Collecting student informaiton for Figueroa High School\n",
    "fhs_student_data = complete_students_data.loc[complete_students_data[\"school_name\"] == \"Figueroa High School\"]\n",
    "fhs_student_count = fhs_student_data[\"student_name\"].count()\n",
    "\n",
    "# Calculation average math and reading scores for Figueroa High School\n",
    "fhs_avg_math_score = fhs_student_data[\"math_score\"].mean()\n",
    "fhs_avg_reading_score = fhs_student_data[\"reading_score\"].mean()\n",
    "\n",
    "# Creating DataFrames that contain the students that are passing math and/or reading\n",
    "fhs_students_passing_math = fhs_student_data.loc[fhs_student_data[\"Passing_Math\"] == \"Passing\"]\n",
    "\n",
    "fhs_students_passing_reading = fhs_student_data.loc[fhs_student_data[\"Passing_Reading\"] == \"Passing\"]\n",
    "\n",
    "fhs_students_pass_math_reading = fhs_students_passing_math.loc[fhs_students_passing_math[\"Passing_Reading\"] == \"Passing\"]\n",
    "\n",
    "# Determinging the number of students at Figueroa High School that are passing math and/or reading\n",
    "fhs_math_pass_count =fhs_students_passing_math[\"Passing_Math\"].count()\n",
    "fhs_reading_pass_count = fhs_students_passing_reading[\"Passing_Reading\"].count()\n",
    "fhs_math_reading_pass_count = fhs_students_pass_math_reading[\"Passing_Math\"].count()\n",
    "\n",
    "# Calculate percentage of students at Figueroa High School passing math and/or reading\n",
    "fhs_pct_pass_math = (fhs_math_pass_count / fhs_student_count)\n",
    "\n",
    "fhs_pct_pass_reading = (fhs_reading_pass_count / fhs_student_count)\n",
    "\n",
    "fhs_pct_pass_math_reading = (fhs_math_reading_pass_count / fhs_student_count)\n",
    "\n",
    "#print(fhs_student_count)\n",
    "#print(fhs_avg_math_score)\n",
    "#print(fhs_avg_reading_score)\n",
    "#print(fhs_pct_pass_math)\n",
    "#print(fhs_pct_pass_reading)\n",
    "#print(fhs_pct_pass_math_reading)\n",
    "\n",
    "fhs_summary = pd.DataFrame({\"Total Students\": [\"{:,}\".format(fhs_student_count)],\n",
    "                            \"Average Math Score\": [fhs_avg_math_score],\n",
    "                            \"Average Reading Score\": [fhs_avg_reading_score],\n",
    "                            \"% Passing Math\": [\"{:.2%}\".format(fhs_pct_pass_math)],\n",
    "                            \"% Passing Reading\": [\"{:.2%}\".format(fhs_pct_pass_reading)],\n",
    "                            \"% Overall Passing\": [\"{:.2%}\".format(fhs_pct_pass_math_reading)]})\n",
    "\n",
    "fhs_summary"
   ]
  },
  {
   "cell_type": "code",
   "execution_count": null,
   "metadata": {},
   "outputs": [],
   "source": [
    "# Collecting student informaiton for Shelton High School\n",
    "shs_student_data = complete_students_data.loc[complete_students_data[\"school_name\"] == \"Shelton High School\"]\n",
    "shs_student_count = shs_student_data[\"student_name\"].count()\n",
    "\n",
    "# Calculation average math and reading scores for Shelton High School\n",
    "shs_avg_math_score = shs_student_data[\"math_score\"].mean()\n",
    "shs_avg_reading_score = shs_student_data[\"reading_score\"].mean()\n",
    "\n",
    "# Creating DataFrames that contain the students that are passing math and/or reading\n",
    "shs_students_passing_math = shs_student_data.loc[shs_student_data[\"Passing_Math\"] == \"Passing\"]\n",
    "\n",
    "shs_students_passing_reading = shs_student_data.loc[shs_student_data[\"Passing_Reading\"] == \"Passing\"]\n",
    "\n",
    "shs_students_pass_math_reading = shs_students_passing_math.loc[shs_students_passing_math[\"Passing_Reading\"] == \"Passing\"]\n",
    "\n",
    "# Determinging the number of students at Shelton High School that are passing math and/or reading\n",
    "shs_math_pass_count = shs_students_passing_math[\"Passing_Math\"].count()\n",
    "shs_reading_pass_count = shs_students_passing_reading[\"Passing_Reading\"].count()\n",
    "shs_math_reading_pass_count = shs_students_pass_math_reading[\"Passing_Math\"].count()\n",
    "\n",
    "# Calculate percentage of students at Shelton High School passing math and/or reading\n",
    "shs_pct_pass_math = (shs_math_pass_count / shs_student_count)\n",
    "\n",
    "shs_pct_pass_reading = (shs_reading_pass_count / shs_student_count)\n",
    "\n",
    "shs_pct_pass_math_reading = (shs_math_reading_pass_count / shs_student_count)\n",
    "\n",
    "#print(shs_student_count)\n",
    "#print(shs_avg_math_score)\n",
    "#print(shs_avg_reading_score)\n",
    "#print(shs_pct_pass_math)\n",
    "#print(shs_pct_pass_reading)\n",
    "#print(shs_pct_pass_math_reading)\n",
    "\n",
    "shs_summary = pd.DataFrame({\"Total Students\": [\"{:,}\".format(shs_student_count)],\n",
    "                            \"Average Math Score\": [shs_avg_math_score],\n",
    "                            \"Average Reading Score\": [shs_avg_reading_score],\n",
    "                            \"% Passing Math\": [\"{:.2%}\".format(shs_pct_pass_math)],\n",
    "                            \"% Passing Reading\": [\"{:.2%}\".format(shs_pct_pass_reading)],\n",
    "                            \"% Overall Passing\": [\"{:.2%}\".format(shs_pct_pass_math_reading)]})\n",
    "\n",
    "shs_summary"
   ]
  },
  {
   "cell_type": "code",
   "execution_count": null,
   "metadata": {},
   "outputs": [],
   "source": [
    "# Collecting student informaiton for Hernandez High School\n",
    "hzhs_student_data = complete_students_data.loc[complete_students_data[\"school_name\"] == \"Hernandez High School\"]\n",
    "hzhs_student_count = hzhs_student_data[\"student_name\"].count()\n",
    "\n",
    "# Calculation average math and reading scores for Hernandez High School\n",
    "hzhs_avg_math_score = hzhs_student_data[\"math_score\"].mean()\n",
    "hzhs_avg_reading_score = hzhs_student_data[\"reading_score\"].mean()\n",
    "\n",
    "# Creating DataFrames that contain the students that are passing math and/or reading\n",
    "hzhs_students_passing_math = hzhs_student_data.loc[hzhs_student_data[\"Passing_Math\"] == \"Passing\"]\n",
    "\n",
    "hzhs_students_passing_reading = hzhs_student_data.loc[hzhs_student_data[\"Passing_Reading\"] == \"Passing\"]\n",
    "\n",
    "hzhs_students_pass_math_reading = hzhs_students_passing_math.loc[hzhs_students_passing_math[\"Passing_Reading\"] == \"Passing\"]\n",
    "\n",
    "# Determinging the number of students at Hernandez High School that are passing math and/or reading\n",
    "hzhs_math_pass_count = hzhs_students_passing_math[\"Passing_Math\"].count()\n",
    "hzhs_reading_pass_count = hzhs_students_passing_reading[\"Passing_Reading\"].count()\n",
    "hzhs_math_reading_pass_count = hzhs_students_pass_math_reading[\"Passing_Math\"].count()\n",
    "\n",
    "# Calculate percentage of students at Hernandez High School passing math and/or reading\n",
    "hzhs_pct_pass_math = (hzhs_math_pass_count / hzhs_student_count)\n",
    "\n",
    "hzhs_pct_pass_reading = (hzhs_reading_pass_count / hzhs_student_count)\n",
    "\n",
    "hzhs_pct_pass_math_reading = (hzhs_math_reading_pass_count / hzhs_student_count)\n",
    "\n",
    "#print(hzhs_student_count)\n",
    "#print(hzhs_avg_math_score)\n",
    "#print(hzhs_avg_reading_score)\n",
    "#print(hzhs_pct_pass_math)\n",
    "#print(hzhs_pct_pass_reading)\n",
    "#print(hzhs_pct_pass_math_reading)\n",
    "\n",
    "hzhs_summary = pd.DataFrame({\"Total Students\": [\"{:,}\".format(hzhs_student_count)],\n",
    "                            \"Average Math Score\": [hzhs_avg_math_score],\n",
    "                            \"Average Reading Score\": [hzhs_avg_reading_score],\n",
    "                            \"% Passing Math\": [\"{:.2%}\".format(hzhs_pct_pass_math)],\n",
    "                            \"% Passing Reading\": [\"{:.2%}\".format(hzhs_pct_pass_reading)],\n",
    "                            \"% Overall Passing\": [\"{:.2%}\".format(hzhs_pct_pass_math_reading)]})\n",
    "\n",
    "hzhs_summary"
   ]
  },
  {
   "cell_type": "code",
   "execution_count": null,
   "metadata": {},
   "outputs": [],
   "source": [
    "# Collecting student informaiton for Griffin High School\n",
    "ghs_student_data = complete_students_data.loc[complete_students_data[\"school_name\"] == \"Griffin High School\"]\n",
    "ghs_student_count = ghs_student_data[\"student_name\"].count()\n",
    "\n",
    "# Calculation average math and reading scores for Griffin High School\n",
    "ghs_avg_math_score = ghs_student_data[\"math_score\"].mean()\n",
    "ghs_avg_reading_score = ghs_student_data[\"reading_score\"].mean()\n",
    "\n",
    "# Creating DataFrames that contain the students that are passing math and/or reading\n",
    "ghs_students_passing_math = ghs_student_data.loc[ghs_student_data[\"Passing_Math\"] == \"Passing\"]\n",
    "\n",
    "ghs_students_passing_reading = ghs_student_data.loc[ghs_student_data[\"Passing_Reading\"] == \"Passing\"]\n",
    "\n",
    "ghs_students_pass_math_reading = ghs_students_passing_math.loc[ghs_students_passing_math[\"Passing_Reading\"] == \"Passing\"]\n",
    "\n",
    "# Determinging the number of students at Griffin High School that are passing math and/or reading\n",
    "ghs_math_pass_count = ghs_students_passing_math[\"Passing_Math\"].count()\n",
    "ghs_reading_pass_count = ghs_students_passing_reading[\"Passing_Reading\"].count()\n",
    "ghs_math_reading_pass_count = ghs_students_pass_math_reading[\"Passing_Math\"].count()\n",
    "\n",
    "# Calculate percentage of students at Griffin High School passing math and/or reading\n",
    "ghs_pct_pass_math = (ghs_math_pass_count / ghs_student_count)\n",
    "\n",
    "ghs_pct_pass_reading = (ghs_reading_pass_count / ghs_student_count)\n",
    "\n",
    "ghs_pct_pass_math_reading = (ghs_math_reading_pass_count / ghs_student_count)\n",
    "\n",
    "#print(ghs_student_count)\n",
    "#print(ghs_avg_math_score)\n",
    "#print(ghs_avg_reading_score)\n",
    "#print(ghs_pct_pass_math)\n",
    "#print(ghs_pct_pass_reading)\n",
    "#print(ghs_pct_pass_math_reading)\n",
    "\n",
    "ghs_summary = pd.DataFrame({\"Total Students\": [\"{:,}\".format(ghs_student_count)],\n",
    "                            \"Average Math Score\": [ghs_avg_math_score],\n",
    "                            \"Average Reading Score\": [ghs_avg_reading_score],\n",
    "                            \"% Passing Math\": [\"{:.2%}\".format(ghs_pct_pass_math)],\n",
    "                            \"% Passing Reading\": [\"{:.2%}\".format(ghs_pct_pass_reading)],\n",
    "                            \"% Overall Passing\": [\"{:.2%}\".format(ghs_pct_pass_math_reading)]})\n",
    "\n",
    "ghs_summary"
   ]
  },
  {
   "cell_type": "code",
   "execution_count": null,
   "metadata": {},
   "outputs": [],
   "source": []
  },
  {
   "cell_type": "code",
   "execution_count": null,
   "metadata": {},
   "outputs": [],
   "source": []
  },
  {
   "cell_type": "code",
   "execution_count": null,
   "metadata": {},
   "outputs": [],
   "source": []
  },
  {
   "cell_type": "code",
   "execution_count": null,
   "metadata": {},
   "outputs": [],
   "source": []
  },
  {
   "cell_type": "code",
   "execution_count": null,
   "metadata": {},
   "outputs": [],
   "source": []
  },
  {
   "cell_type": "code",
   "execution_count": null,
   "metadata": {},
   "outputs": [],
   "source": []
  },
  {
   "cell_type": "code",
   "execution_count": null,
   "metadata": {},
   "outputs": [],
   "source": []
  },
  {
   "cell_type": "code",
   "execution_count": null,
   "metadata": {},
   "outputs": [],
   "source": []
  },
  {
   "cell_type": "code",
   "execution_count": null,
   "metadata": {},
   "outputs": [],
   "source": []
  },
  {
   "cell_type": "code",
   "execution_count": null,
   "metadata": {},
   "outputs": [],
   "source": []
  }
 ],
 "metadata": {
  "kernelspec": {
   "display_name": "Python [conda env:PythonData]",
   "language": "python",
   "name": "conda-env-PythonData-py"
  },
  "language_info": {
   "codemirror_mode": {
    "name": "ipython",
    "version": 3
   },
   "file_extension": ".py",
   "mimetype": "text/x-python",
   "name": "python",
   "nbconvert_exporter": "python",
   "pygments_lexer": "ipython3",
   "version": "3.6.10"
  }
 },
 "nbformat": 4,
 "nbformat_minor": 4
}
